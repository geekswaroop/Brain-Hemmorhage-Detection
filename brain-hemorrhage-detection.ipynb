{
  "nbformat": 4,
  "nbformat_minor": 0,
  "metadata": {
    "colab": {
      "name": "Untitled0.ipynb",
      "provenance": [],
      "collapsed_sections": []
    },
    "kernelspec": {
      "name": "python3",
      "display_name": "Python 3"
    },
    "accelerator": "GPU"
  },
  "cells": [
    {
      "cell_type": "code",
      "metadata": {
        "id": "u6h4lbZG9ddJ",
        "colab_type": "code",
        "outputId": "52564259-1c04-47ae-814f-914ebd3dc827",
        "colab": {
          "base_uri": "https://localhost:8080/",
          "height": 121
        }
      },
      "source": [
        "from google.colab import drive\n",
        "drive.mount('/content/drive')"
      ],
      "execution_count": 0,
      "outputs": [
        {
          "output_type": "stream",
          "text": [
            "Go to this URL in a browser: https://accounts.google.com/o/oauth2/auth?client_id=947318989803-6bn6qk8qdgf4n4g3pfee6491hc0brc4i.apps.googleusercontent.com&redirect_uri=urn%3aietf%3awg%3aoauth%3a2.0%3aoob&response_type=code&scope=email%20https%3a%2f%2fwww.googleapis.com%2fauth%2fdocs.test%20https%3a%2f%2fwww.googleapis.com%2fauth%2fdrive%20https%3a%2f%2fwww.googleapis.com%2fauth%2fdrive.photos.readonly%20https%3a%2f%2fwww.googleapis.com%2fauth%2fpeopleapi.readonly\n",
            "\n",
            "Enter your authorization code:\n",
            "··········\n",
            "Mounted at /content/drive\n"
          ],
          "name": "stdout"
        }
      ]
    },
    {
      "cell_type": "code",
      "metadata": {
        "id": "89awidMU-eWv",
        "colab_type": "code",
        "outputId": "fefce5e7-5bec-405a-abb6-4f4c8e63d5df",
        "colab": {
          "base_uri": "https://localhost:8080/",
          "height": 34
        }
      },
      "source": [
        "cd /content/drive/"
      ],
      "execution_count": 0,
      "outputs": [
        {
          "output_type": "stream",
          "text": [
            "/content/drive\n"
          ],
          "name": "stdout"
        }
      ]
    },
    {
      "cell_type": "code",
      "metadata": {
        "id": "ESZk6RKRDqpg",
        "colab_type": "code",
        "outputId": "5d0d26b3-d33e-4648-fd1b-ae45dafa54f0",
        "colab": {
          "base_uri": "https://localhost:8080/",
          "height": 34
        }
      },
      "source": [
        "ls"
      ],
      "execution_count": 0,
      "outputs": [
        {
          "output_type": "stream",
          "text": [
            "\u001b[0m\u001b[01;34m'My Drive'\u001b[0m/\n"
          ],
          "name": "stdout"
        }
      ]
    },
    {
      "cell_type": "code",
      "metadata": {
        "id": "fN6FFMNRDrWt",
        "colab_type": "code",
        "outputId": "ae67df00-3aee-40c8-bc02-b2f93a907ac0",
        "colab": {
          "base_uri": "https://localhost:8080/",
          "height": 34
        }
      },
      "source": [
        "cd My Drive/tumour"
      ],
      "execution_count": 0,
      "outputs": [
        {
          "output_type": "stream",
          "text": [
            "/content/drive/My Drive/tumour\n"
          ],
          "name": "stdout"
        }
      ]
    },
    {
      "cell_type": "code",
      "metadata": {
        "id": "ITfzp1XmDuU2",
        "colab_type": "code",
        "outputId": "f8605262-a5a8-4ae4-f6ae-a8de9bc01a45",
        "colab": {
          "base_uri": "https://localhost:8080/",
          "height": 50
        }
      },
      "source": [
        "ls"
      ],
      "execution_count": 0,
      "outputs": [
        {
          "output_type": "stream",
          "text": [
            "labels.csv  \u001b[0m\u001b[01;34mtrain_data\u001b[0m/       Untitled0.ipynb\n",
            "\u001b[01;34mtest_data\u001b[0m/  train_labels.csv  vgg16_weights_tf_dim_ordering_tf_kernels_notop.h5\n"
          ],
          "name": "stdout"
        }
      ]
    },
    {
      "cell_type": "code",
      "metadata": {
        "id": "JSkYu6WgDx_j",
        "colab_type": "code",
        "outputId": "a57f21b6-a0de-4a8c-f88b-9384c6a3d777",
        "colab": {
          "base_uri": "https://localhost:8080/",
          "height": 54
        }
      },
      "source": [
        "import numpy as np\n",
        "import pandas as pd \n",
        "from keras.preprocessing.image import ImageDataGenerator, load_img\n",
        "from keras.utils import to_categorical\n",
        "from sklearn.model_selection import train_test_split\n",
        "import matplotlib.pyplot as plt\n",
        "import random\n",
        "import os\n",
        "import keras\n",
        "print(os.listdir(\"../tumour/train_data/\"))"
      ],
      "execution_count": 0,
      "outputs": [
        {
          "output_type": "stream",
          "text": [
            "['Train_0.png', 'Train_104.png', 'Train_100.png', 'Train_101.png', 'Train_1.png', 'Train_102.png', 'Train_105.png', 'Train_103.png', 'Train_106.png', 'Train_10.png', 'Train_107.png', 'Train_112.png', 'Train_110.png', 'Train_108.png', 'Train_114.png', 'Train_111.png', 'Train_115.png', 'Train_113.png', 'Train_11.png', 'Train_109.png', 'Train_116.png', 'Train_118.png', 'Train_12.png', 'Train_117.png', 'Train_119.png', 'Train_124.png', 'Train_122.png', 'Train_123.png', 'Train_121.png', 'Train_120.png', 'Train_125.png', 'Train_127.png', 'Train_129.png', 'Train_128.png', 'Train_130.png', 'Train_126.png', 'Train_13.png', 'Train_133.png', 'Train_132.png', 'Train_131.png', 'Train_134.png', 'Train_136.png', 'Train_135.png', 'Train_138.png', 'Train_139.png', 'Train_141.png', 'Train_140.png', 'Train_142.png', 'Train_14.png', 'Train_137.png', 'Train_143.png', 'Train_146.png', 'Train_145.png', 'Train_144.png', 'Train_147.png', 'Train_149.png', 'Train_15.png', 'Train_148.png', 'Train_16.png', 'Train_17.png', 'Train_18.png', 'Train_21.png', 'Train_19.png', 'Train_2.png', 'Train_20.png', 'Train_24.png', 'Train_23.png', 'Train_22.png', 'Train_26.png', 'Train_25.png', 'Train_27.png', 'Train_29.png', 'Train_28.png', 'Train_35.png', 'Train_3.png', 'Train_30.png', 'Train_34.png', 'Train_31.png', 'Train_33.png', 'Train_32.png', 'Train_36.png', 'Train_39.png', 'Train_37.png', 'Train_4.png', 'Train_38.png', 'Train_40.png', 'Train_41.png', 'Train_44.png', 'Train_42.png', 'Train_43.png', 'Train_45.png', 'Train_46.png', 'Train_47.png', 'Train_52.png', 'Train_49.png', 'Train_51.png', 'Train_48.png', 'Train_53.png', 'Train_50.png', 'Train_5.png', 'Train_54.png', 'Train_56.png', 'Train_58.png', 'Train_57.png', 'Train_55.png', 'Train_60.png', 'Train_62.png', 'Train_61.png', 'Train_59.png', 'Train_6.png', 'Train_63.png', 'Train_65.png', 'Train_64.png', 'Train_70.png', 'Train_66.png', 'Train_71.png', 'Train_67.png', 'Train_7.png', 'Train_68.png', 'Train_69.png', 'Train_72.png', 'Train_73.png', 'Train_76.png', 'Train_75.png', 'Train_74.png', 'Train_78.png', 'Train_77.png', 'Train_8.png', 'Train_79.png', 'Train_80.png', 'Train_81.png', 'Train_82.png', 'Train_83.png', 'Train_85.png', 'Train_9.png', 'Train_86.png', 'Train_84.png', 'Train_87.png', 'Train_88.png', 'Train_89.png', 'Train_90.png', 'Train_92.png', 'Train_93.png', 'Train_91.png', 'Train_95.png', 'Train_97.png', 'Train_96.png', 'Train_94.png', 'Train_99.png', 'Train_98.png']\n"
          ],
          "name": "stdout"
        }
      ]
    },
    {
      "cell_type": "code",
      "metadata": {
        "id": "WtdPRDAiD4vD",
        "colab_type": "code",
        "colab": {}
      },
      "source": [
        "FAST_RUN = False\n",
        "IMAGE_WIDTH=256\n",
        "IMAGE_HEIGHT=256\n",
        "IMAGE_SIZE=(IMAGE_WIDTH, IMAGE_HEIGHT)\n",
        "IMAGE_CHANNELS=3\n",
        "batch_size=5\n",
        "filenames=os.listdir(\"../tumour/train_data/\")"
      ],
      "execution_count": 0,
      "outputs": []
    },
    {
      "cell_type": "code",
      "metadata": {
        "id": "DqErp87qWgQW",
        "colab_type": "code",
        "outputId": "f11deb1a-5b48-4530-dc65-e49ec591562b",
        "colab": {
          "base_uri": "https://localhost:8080/",
          "height": 286
        }
      },
      "source": [
        "sample = random.choice(filenames)\n",
        "image = load_img(\"../tumour/train_data/\"+sample)\n",
        "plt.imshow(image)"
      ],
      "execution_count": 0,
      "outputs": [
        {
          "output_type": "execute_result",
          "data": {
            "text/plain": [
              "<matplotlib.image.AxesImage at 0x7fb88aa62860>"
            ]
          },
          "metadata": {
            "tags": []
          },
          "execution_count": 19
        },
        {
          "output_type": "display_data",
          "data": {
            "image/png": "[encoded data removed]",
            "text/plain": [
              "<Figure size 432x288 with 1 Axes>"
            ]
          },
          "metadata": {
            "tags": []
          }
        }
      ]
    },
    {
      "cell_type": "code",
      "metadata": {
        "id": "PGxkIth9W0At",
        "colab_type": "code",
        "outputId": "3f6c1430-6071-4a27-b1b4-4801bb245d8e",
        "colab": {
          "base_uri": "https://localhost:8080/",
          "height": 402
        }
      },
      "source": [
        "import pandas as pd\n",
        "df = pd.read_csv(\"../tumour/train_labels.csv\",header=None,names=[\"category\"])\n",
        "image_filenames=[\"Train_{}.png\".format(i) for i in range(150)]\n",
        "#print(image_filenames)\n",
        "df['category'] = df['category'].replace({0:'not_hem', 1:'hem'})\n",
        "\n",
        "df['filename']=image_filenames\n",
        "df\n"
      ],
      "execution_count": 0,
      "outputs": [
        {
          "output_type": "execute_result",
          "data": {
            "text/html": [
              "<div>\n",
              "<style scoped>\n",
              "    .dataframe tbody tr th:only-of-type {\n",
              "        vertical-align: middle;\n",
              "    }\n",
              "\n",
              "    .dataframe tbody tr th {\n",
              "        vertical-align: top;\n",
              "    }\n",
              "\n",
              "    .dataframe thead th {\n",
              "        text-align: right;\n",
              "    }\n",
              "</style>\n",
              "<table border=\"1\" class=\"dataframe\">\n",
              "  <thead>\n",
              "    <tr style=\"text-align: right;\">\n",
              "      <th></th>\n",
              "      <th>category</th>\n",
              "      <th>filename</th>\n",
              "    </tr>\n",
              "  </thead>\n",
              "  <tbody>\n",
              "    <tr>\n",
              "      <th>0</th>\n",
              "      <td>hem</td>\n",
              "      <td>Train_0.png</td>\n",
              "    </tr>\n",
              "    <tr>\n",
              "      <th>1</th>\n",
              "      <td>hem</td>\n",
              "      <td>Train_1.png</td>\n",
              "    </tr>\n",
              "    <tr>\n",
              "      <th>2</th>\n",
              "      <td>not_hem</td>\n",
              "      <td>Train_2.png</td>\n",
              "    </tr>\n",
              "    <tr>\n",
              "      <th>3</th>\n",
              "      <td>not_hem</td>\n",
              "      <td>Train_3.png</td>\n",
              "    </tr>\n",
              "    <tr>\n",
              "      <th>4</th>\n",
              "      <td>hem</td>\n",
              "      <td>Train_4.png</td>\n",
              "    </tr>\n",
              "    <tr>\n",
              "      <th>...</th>\n",
              "      <td>...</td>\n",
              "      <td>...</td>\n",
              "    </tr>\n",
              "    <tr>\n",
              "      <th>145</th>\n",
              "      <td>not_hem</td>\n",
              "      <td>Train_145.png</td>\n",
              "    </tr>\n",
              "    <tr>\n",
              "      <th>146</th>\n",
              "      <td>not_hem</td>\n",
              "      <td>Train_146.png</td>\n",
              "    </tr>\n",
              "    <tr>\n",
              "      <th>147</th>\n",
              "      <td>hem</td>\n",
              "      <td>Train_147.png</td>\n",
              "    </tr>\n",
              "    <tr>\n",
              "      <th>148</th>\n",
              "      <td>not_hem</td>\n",
              "      <td>Train_148.png</td>\n",
              "    </tr>\n",
              "    <tr>\n",
              "      <th>149</th>\n",
              "      <td>not_hem</td>\n",
              "      <td>Train_149.png</td>\n",
              "    </tr>\n",
              "  </tbody>\n",
              "</table>\n",
              "<p>150 rows × 2 columns</p>\n",
              "</div>"
            ],
            "text/plain": [
              "    category       filename\n",
              "0        hem    Train_0.png\n",
              "1        hem    Train_1.png\n",
              "2    not_hem    Train_2.png\n",
              "3    not_hem    Train_3.png\n",
              "4        hem    Train_4.png\n",
              "..       ...            ...\n",
              "145  not_hem  Train_145.png\n",
              "146  not_hem  Train_146.png\n",
              "147      hem  Train_147.png\n",
              "148  not_hem  Train_148.png\n",
              "149  not_hem  Train_149.png\n",
              "\n",
              "[150 rows x 2 columns]"
            ]
          },
          "metadata": {
            "tags": []
          },
          "execution_count": 20
        }
      ]
    },
    {
      "cell_type": "code",
      "metadata": {
        "id": "gJ7ArnOrW1N6",
        "colab_type": "code",
        "colab": {}
      },
      "source": [
        "train_df, validate_df = train_test_split(df, test_size=0.20, random_state=42)\n",
        "train_df = train_df.reset_index(drop=True)\n",
        "\n",
        "validate_df = validate_df.reset_index(drop=True)"
      ],
      "execution_count": 0,
      "outputs": []
    },
    {
      "cell_type": "code",
      "metadata": {
        "id": "zu0QzWQCgwzP",
        "colab_type": "code",
        "outputId": "8e75355e-5ec4-46a0-be74-70db60027cf2",
        "colab": {
          "base_uri": "https://localhost:8080/",
          "height": 195
        }
      },
      "source": [
        "from keras.models import Sequential\n",
        "from keras import layers\n",
        "from keras.layers import Conv2D, MaxPooling2D, Dropout, Flatten, Dense, Activation,GlobalMaxPooling2D\n",
        "from keras import applications\n",
        "from keras.preprocessing.image import ImageDataGenerator\n",
        "from keras import optimizers\n",
        "from keras.applications import VGG16\n",
        "from keras.models import Model\n",
        "\n",
        "image_size = 256\n",
        "input_shape = (image_size, image_size, 3)\n",
        "\n",
        "epochs = 5\n",
        "batch_size = 16\n",
        "pre_trained_model = ResNet50(input_shape=input_shape, include_top=False, weights=\"imagenet\")"
      ],
      "execution_count": 0,
      "outputs": [
        {
          "output_type": "error",
          "ename": "NameError",
          "evalue": "ignored",
          "traceback": [
            "\u001b[0;31m---------------------------------------------------------------------------\u001b[0m",
            "\u001b[0;31mNameError\u001b[0m                                 Traceback (most recent call last)",
            "\u001b[0;32m<ipython-input-23-7cb0e55d40b5>\u001b[0m in \u001b[0;36m<module>\u001b[0;34m()\u001b[0m\n\u001b[1;32m     13\u001b[0m \u001b[0mepochs\u001b[0m \u001b[0;34m=\u001b[0m \u001b[0;36m5\u001b[0m\u001b[0;34m\u001b[0m\u001b[0;34m\u001b[0m\u001b[0m\n\u001b[1;32m     14\u001b[0m \u001b[0mbatch_size\u001b[0m \u001b[0;34m=\u001b[0m \u001b[0;36m16\u001b[0m\u001b[0;34m\u001b[0m\u001b[0;34m\u001b[0m\u001b[0m\n\u001b[0;32m---> 15\u001b[0;31m \u001b[0mpre_trained_model\u001b[0m \u001b[0;34m=\u001b[0m \u001b[0mResNet50\u001b[0m\u001b[0;34m(\u001b[0m\u001b[0minput_shape\u001b[0m\u001b[0;34m=\u001b[0m\u001b[0minput_shape\u001b[0m\u001b[0;34m,\u001b[0m \u001b[0minclude_top\u001b[0m\u001b[0;34m=\u001b[0m\u001b[0;32mFalse\u001b[0m\u001b[0;34m,\u001b[0m \u001b[0mweights\u001b[0m\u001b[0;34m=\u001b[0m\u001b[0;34m\"imagenet\"\u001b[0m\u001b[0;34m)\u001b[0m\u001b[0;34m\u001b[0m\u001b[0;34m\u001b[0m\u001b[0m\n\u001b[0m",
            "\u001b[0;31mNameError\u001b[0m: name 'ResNet50' is not defined"
          ]
        }
      ]
    },
    {
      "cell_type": "code",
      "metadata": {
        "id": "YETmS5svW3-G",
        "colab_type": "code",
        "outputId": "db72d988-a10c-49de-9514-2991a0525254",
        "colab": {
          "base_uri": "https://localhost:8080/",
          "height": 1000
        }
      },
      "source": [
        "from keras.models import Sequential\n",
        "from keras import layers\n",
        "from keras.layers import Conv2D, MaxPooling2D, Dropout, Flatten, Dense, Activation,GlobalMaxPooling2D\n",
        "from keras import applications\n",
        "from keras.preprocessing.image import ImageDataGenerator\n",
        "from keras import optimizers\n",
        "from keras.applications import VGG16\n",
        "from keras.models import Model\n",
        "\n",
        "image_size = 256\n",
        "input_shape = (image_size, image_size, 3)\n",
        "\n",
        "epochs = 5\n",
        "batch_size = 16\n",
        "\n",
        "pre_trained_model = VGG16(input_shape=input_shape, include_top=False, weights=\"imagenet\")\n",
        "for layer in pre_trained_model.layers[:15]:\n",
        "    layer.trainable = False\n",
        "\n",
        "for layer in pre_trained_model.layers[15:]:\n",
        "    layer.trainable = True\n",
        "    \n",
        "last_layer = pre_trained_model.get_layer('block5_pool')\n",
        "last_output = last_layer.output\n",
        "    \n",
        "# Flatten the output layer to 1 dimension\n",
        "x = GlobalMaxPooling2D()(last_output)\n",
        "# Add a fully connected layer with 512 hidden units and ReLU activation\n",
        "x = Dense(1024, activation='relu')(x)\n",
        "# Add a dropout rate of 0.5\n",
        "x = Dropout(0.5)(x)\n",
        "x = Dense(512, activation='relu')(x)\n",
        "# Add a dropout rate of 0.5\n",
        "x = Dropout(0.5)(x)\n",
        "# Add a final sigmoid layer for classification\n",
        "x = layers.Dense(2, activation='softmax')(x)\n",
        "\n",
        "model = Model(pre_trained_model.input, x)\n",
        "\n",
        "model.compile(loss='categorical_crossentropy',\n",
        "              optimizer=optimizers.SGD(lr=1e-4, momentum=0.9),\n",
        "              metrics=['accuracy'])\n",
        "\n",
        "model.summary()\n"
      ],
      "execution_count": 0,
      "outputs": [
        {
          "output_type": "stream",
          "text": [
            "WARNING:tensorflow:From /usr/local/lib/python3.6/dist-packages/keras/backend/tensorflow_backend.py:66: The name tf.get_default_graph is deprecated. Please use tf.compat.v1.get_default_graph instead.\n",
            "\n",
            "WARNING:tensorflow:From /usr/local/lib/python3.6/dist-packages/keras/backend/tensorflow_backend.py:541: The name tf.placeholder is deprecated. Please use tf.compat.v1.placeholder instead.\n",
            "\n",
            "WARNING:tensorflow:From /usr/local/lib/python3.6/dist-packages/keras/backend/tensorflow_backend.py:4432: The name tf.random_uniform is deprecated. Please use tf.random.uniform instead.\n",
            "\n",
            "WARNING:tensorflow:From /usr/local/lib/python3.6/dist-packages/keras/backend/tensorflow_backend.py:4267: The name tf.nn.max_pool is deprecated. Please use tf.nn.max_pool2d instead.\n",
            "\n",
            "Downloading data from https://github.com/fchollet/deep-learning-models/releases/download/v0.1/vgg16_weights_tf_dim_ordering_tf_kernels_notop.h5\n",
            "58892288/58889256 [==============================] - 6s 0us/step\n",
            "WARNING:tensorflow:From /usr/local/lib/python3.6/dist-packages/keras/backend/tensorflow_backend.py:190: The name tf.get_default_session is deprecated. Please use tf.compat.v1.get_default_session instead.\n",
            "\n",
            "WARNING:tensorflow:From /usr/local/lib/python3.6/dist-packages/keras/backend/tensorflow_backend.py:197: The name tf.ConfigProto is deprecated. Please use tf.compat.v1.ConfigProto instead.\n",
            "\n",
            "WARNING:tensorflow:From /usr/local/lib/python3.6/dist-packages/keras/backend/tensorflow_backend.py:203: The name tf.Session is deprecated. Please use tf.compat.v1.Session instead.\n",
            "\n",
            "WARNING:tensorflow:From /usr/local/lib/python3.6/dist-packages/keras/backend/tensorflow_backend.py:207: The name tf.global_variables is deprecated. Please use tf.compat.v1.global_variables instead.\n",
            "\n",
            "WARNING:tensorflow:From /usr/local/lib/python3.6/dist-packages/keras/backend/tensorflow_backend.py:216: The name tf.is_variable_initialized is deprecated. Please use tf.compat.v1.is_variable_initialized instead.\n",
            "\n",
            "WARNING:tensorflow:From /usr/local/lib/python3.6/dist-packages/keras/backend/tensorflow_backend.py:223: The name tf.variables_initializer is deprecated. Please use tf.compat.v1.variables_initializer instead.\n",
            "\n",
            "WARNING:tensorflow:From /usr/local/lib/python3.6/dist-packages/keras/backend/tensorflow_backend.py:148: The name tf.placeholder_with_default is deprecated. Please use tf.compat.v1.placeholder_with_default instead.\n",
            "\n",
            "WARNING:tensorflow:From /usr/local/lib/python3.6/dist-packages/keras/backend/tensorflow_backend.py:3733: calling dropout (from tensorflow.python.ops.nn_ops) with keep_prob is deprecated and will be removed in a future version.\n",
            "Instructions for updating:\n",
            "Please use `rate` instead of `keep_prob`. Rate should be set to `rate = 1 - keep_prob`.\n",
            "WARNING:tensorflow:From /usr/local/lib/python3.6/dist-packages/keras/optimizers.py:793: The name tf.train.Optimizer is deprecated. Please use tf.compat.v1.train.Optimizer instead.\n",
            "\n",
            "WARNING:tensorflow:From /usr/local/lib/python3.6/dist-packages/keras/backend/tensorflow_backend.py:3576: The name tf.log is deprecated. Please use tf.math.log instead.\n",
            "\n",
            "Model: \"model_1\"\n",
            "_________________________________________________________________\n",
            "Layer (type)                 Output Shape              Param #   \n",
            "=================================================================\n",
            "input_1 (InputLayer)         (None, 256, 256, 3)       0         \n",
            "_________________________________________________________________\n",
            "block1_conv1 (Conv2D)        (None, 256, 256, 64)      1792      \n",
            "_________________________________________________________________\n",
            "block1_conv2 (Conv2D)        (None, 256, 256, 64)      36928     \n",
            "_________________________________________________________________\n",
            "block1_pool (MaxPooling2D)   (None, 128, 128, 64)      0         \n",
            "_________________________________________________________________\n",
            "block2_conv1 (Conv2D)        (None, 128, 128, 128)     73856     \n",
            "_________________________________________________________________\n",
            "block2_conv2 (Conv2D)        (None, 128, 128, 128)     147584    \n",
            "_________________________________________________________________\n",
            "block2_pool (MaxPooling2D)   (None, 64, 64, 128)       0         \n",
            "_________________________________________________________________\n",
            "block3_conv1 (Conv2D)        (None, 64, 64, 256)       295168    \n",
            "_________________________________________________________________\n",
            "block3_conv2 (Conv2D)        (None, 64, 64, 256)       590080    \n",
            "_________________________________________________________________\n",
            "block3_conv3 (Conv2D)        (None, 64, 64, 256)       590080    \n",
            "_________________________________________________________________\n",
            "block3_pool (MaxPooling2D)   (None, 32, 32, 256)       0         \n",
            "_________________________________________________________________\n",
            "block4_conv1 (Conv2D)        (None, 32, 32, 512)       1180160   \n",
            "_________________________________________________________________\n",
            "block4_conv2 (Conv2D)        (None, 32, 32, 512)       2359808   \n",
            "_________________________________________________________________\n",
            "block4_conv3 (Conv2D)        (None, 32, 32, 512)       2359808   \n",
            "_________________________________________________________________\n",
            "block4_pool (MaxPooling2D)   (None, 16, 16, 512)       0         \n",
            "_________________________________________________________________\n",
            "block5_conv1 (Conv2D)        (None, 16, 16, 512)       2359808   \n",
            "_________________________________________________________________\n",
            "block5_conv2 (Conv2D)        (None, 16, 16, 512)       2359808   \n",
            "_________________________________________________________________\n",
            "block5_conv3 (Conv2D)        (None, 16, 16, 512)       2359808   \n",
            "_________________________________________________________________\n",
            "block5_pool (MaxPooling2D)   (None, 8, 8, 512)         0         \n",
            "_________________________________________________________________\n",
            "global_max_pooling2d_1 (Glob (None, 512)               0         \n",
            "_________________________________________________________________\n",
            "dense_1 (Dense)              (None, 1024)              525312    \n",
            "_________________________________________________________________\n",
            "dropout_1 (Dropout)          (None, 1024)              0         \n",
            "_________________________________________________________________\n",
            "dense_2 (Dense)              (None, 512)               524800    \n",
            "_________________________________________________________________\n",
            "dropout_2 (Dropout)          (None, 512)               0         \n",
            "_________________________________________________________________\n",
            "dense_3 (Dense)              (None, 2)                 1026      \n",
            "=================================================================\n",
            "Total params: 15,765,826\n",
            "Trainable params: 8,130,562\n",
            "Non-trainable params: 7,635,264\n",
            "_________________________________________________________________\n"
          ],
          "name": "stdout"
        }
      ]
    },
    {
      "cell_type": "code",
      "metadata": {
        "id": "YWJODMVXW4-b",
        "colab_type": "code",
        "colab": {}
      },
      "source": [
        "from keras.callbacks import EarlyStopping, ReduceLROnPlateau\n",
        "from keras.callbacks import ModelCheckpoint\n",
        "\n",
        "earlystop = EarlyStopping(patience=30)\n",
        "learning_rate_reduction = ReduceLROnPlateau(monitor='val_acc', \n",
        "                                            patience=2, \n",
        "                                            verbose=1, \n",
        "                                            factor=0.5, \n",
        "                                            min_lr=0.00001)\n",
        "checkpoint = ModelCheckpoint(\"best_model.h5\", monitor='val_accuracy', verbose=1, save_best_only=True, mode='max')\n",
        "callbacks_list = [checkpoint]\n",
        "callbacks = [earlystop, learning_rate_reduction,checkpoint]"
      ],
      "execution_count": 0,
      "outputs": []
    },
    {
      "cell_type": "code",
      "metadata": {
        "id": "s5sKzDKfW7ic",
        "colab_type": "code",
        "outputId": "bedae983-a133-4485-dd98-30ae671c5e2e",
        "colab": {
          "base_uri": "https://localhost:8080/",
          "height": 34
        }
      },
      "source": [
        "train_datagen = ImageDataGenerator(\n",
        "    rotation_range=20,\n",
        "    rescale=1./255,\n",
        "    shear_range=0.2,\n",
        "    zoom_range=0.2,\n",
        "    horizontal_flip=True,\n",
        "    width_shift_range=0.2,\n",
        "    height_shift_range=0.2\n",
        ")\n",
        "\n",
        "train_generator = train_datagen.flow_from_dataframe(\n",
        "    train_df, \n",
        "    \"../tumour/train_data\", \n",
        "    x_col='filename',\n",
        "    y_col='category',\n",
        "    target_size=IMAGE_SIZE,\n",
        "    class_mode='categorical',\n",
        "    batch_size=batch_size\n",
        ")"
      ],
      "execution_count": 0,
      "outputs": [
        {
          "output_type": "stream",
          "text": [
            "Found 120 validated image filenames belonging to 2 classes.\n"
          ],
          "name": "stdout"
        }
      ]
    },
    {
      "cell_type": "code",
      "metadata": {
        "id": "LdGfssx7W9BK",
        "colab_type": "code",
        "outputId": "c19ca46b-13c5-46c6-c58e-e23cc03a70d6",
        "colab": {
          "base_uri": "https://localhost:8080/",
          "height": 34
        }
      },
      "source": [
        "#df = pd.read_csv(\"../input/train-csv/train_labels.csv\",header=None,names=[\"category\"])\n",
        "#df.iloc[1,0]\n",
        "\n",
        "validation_datagen = ImageDataGenerator(rescale=1./255)\n",
        "validation_generator = validation_datagen.flow_from_dataframe(\n",
        "    validate_df, \n",
        "    \"../tumour/train_data\", \n",
        "    x_col='filename',\n",
        "    y_col='category',\n",
        "    target_size=IMAGE_SIZE,\n",
        "    class_mode='categorical',\n",
        "    batch_size=batch_size\n",
        ")\n",
        "total_validate=np.size(validate_df)/2\n",
        "total_train=np.size(train_df)/2"
      ],
      "execution_count": 0,
      "outputs": [
        {
          "output_type": "stream",
          "text": [
            "Found 30 validated image filenames belonging to 2 classes.\n"
          ],
          "name": "stdout"
        }
      ]
    },
    {
      "cell_type": "code",
      "metadata": {
        "id": "brUNEvWJW_mZ",
        "colab_type": "code",
        "outputId": "f69e58ba-f1ca-4eac-9a17-6aea1187a734",
        "colab": {
          "base_uri": "https://localhost:8080/",
          "height": 1000
        }
      },
      "source": [
        "epochs=3 if FAST_RUN else 100\n",
        "history = model.fit_generator(\n",
        "    train_generator, \n",
        "    epochs=epochs,\n",
        "    validation_data=validation_generator,\n",
        "    validation_steps=total_validate//batch_size,\n",
        "    steps_per_epoch=total_train//batch_size,\n",
        "    callbacks=callbacks\n",
        ")"
      ],
      "execution_count": 0,
      "outputs": [
        {
          "output_type": "stream",
          "text": [
            "WARNING:tensorflow:From /usr/local/lib/python3.6/dist-packages/tensorflow_core/python/ops/math_grad.py:1424: where (from tensorflow.python.ops.array_ops) is deprecated and will be removed in a future version.\n",
            "Instructions for updating:\n",
            "Use tf.where in 2.0, which has the same broadcast rule as np.where\n",
            "WARNING:tensorflow:From /usr/local/lib/python3.6/dist-packages/keras/backend/tensorflow_backend.py:1033: The name tf.assign_add is deprecated. Please use tf.compat.v1.assign_add instead.\n",
            "\n",
            "WARNING:tensorflow:From /usr/local/lib/python3.6/dist-packages/keras/backend/tensorflow_backend.py:1020: The name tf.assign is deprecated. Please use tf.compat.v1.assign instead.\n",
            "\n",
            "Epoch 1/100\n",
            "24/24 [==============================] - 71s 3s/step - loss: 8.4878 - val_loss: 5.9100\n",
            "Epoch 2/100\n",
            " 4/24 [====>.........................] - ETA: 0s - loss: 7.2531"
          ],
          "name": "stdout"
        },
        {
          "output_type": "stream",
          "text": [
            "/usr/local/lib/python3.6/dist-packages/keras/callbacks.py:1379: RuntimeWarning: Reduce LR on plateau conditioned on metric `val_acc` which is not available. Available metrics are: val_loss,loss,lr\n",
            "  (self.monitor, ','.join(list(logs.keys()))), RuntimeWarning\n",
            "/usr/local/lib/python3.6/dist-packages/keras/callbacks.py:707: RuntimeWarning: Can save best model only with val_accuracy available, skipping.\n",
            "  'skipping.' % (self.monitor), RuntimeWarning)\n"
          ],
          "name": "stderr"
        },
        {
          "output_type": "stream",
          "text": [
            "24/24 [==============================] - 2s 74ms/step - loss: 4.6275 - val_loss: 1.9505\n",
            "Epoch 3/100\n",
            "24/24 [==============================] - 3s 114ms/step - loss: 1.1880 - val_loss: 0.6163\n",
            "Epoch 4/100\n",
            "24/24 [==============================] - 3s 113ms/step - loss: 0.9474 - val_loss: 1.1170\n",
            "Epoch 5/100\n",
            "24/24 [==============================] - 3s 112ms/step - loss: 0.9409 - val_loss: 0.9475\n",
            "Epoch 6/100\n",
            "24/24 [==============================] - 3s 114ms/step - loss: 0.7096 - val_loss: 0.4881\n",
            "Epoch 7/100\n",
            "24/24 [==============================] - 3s 111ms/step - loss: 0.7764 - val_loss: 1.0409\n",
            "Epoch 8/100\n",
            "24/24 [==============================] - 3s 113ms/step - loss: 0.7872 - val_loss: 0.7174\n",
            "Epoch 9/100\n",
            "24/24 [==============================] - 3s 113ms/step - loss: 0.6615 - val_loss: 0.6016\n",
            "Epoch 10/100\n",
            "24/24 [==============================] - 3s 112ms/step - loss: 0.4679 - val_loss: 1.3829\n",
            "Epoch 11/100\n",
            "24/24 [==============================] - 3s 111ms/step - loss: 0.7707 - val_loss: 0.6067\n",
            "Epoch 12/100\n",
            "24/24 [==============================] - 3s 109ms/step - loss: 0.6857 - val_loss: 0.6680\n",
            "Epoch 13/100\n",
            "24/24 [==============================] - 3s 112ms/step - loss: 0.7032 - val_loss: 0.5469\n",
            "Epoch 14/100\n",
            "24/24 [==============================] - 3s 111ms/step - loss: 0.6065 - val_loss: 0.5063\n",
            "Epoch 15/100\n",
            "24/24 [==============================] - 3s 113ms/step - loss: 0.5526 - val_loss: 1.0754\n",
            "Epoch 16/100\n",
            "24/24 [==============================] - 3s 112ms/step - loss: 0.6934 - val_loss: 0.7353\n",
            "Epoch 17/100\n",
            "24/24 [==============================] - 3s 112ms/step - loss: 0.4648 - val_loss: 0.6395\n",
            "Epoch 18/100\n",
            "24/24 [==============================] - 3s 111ms/step - loss: 0.5158 - val_loss: 0.5819\n",
            "Epoch 19/100\n",
            "24/24 [==============================] - 3s 111ms/step - loss: 0.7556 - val_loss: 0.5316\n",
            "Epoch 20/100\n",
            "24/24 [==============================] - 3s 112ms/step - loss: 0.5943 - val_loss: 0.6898\n",
            "Epoch 21/100\n",
            "24/24 [==============================] - 3s 115ms/step - loss: 0.5246 - val_loss: 0.6200\n",
            "Epoch 22/100\n",
            "24/24 [==============================] - 3s 112ms/step - loss: 0.5124 - val_loss: 0.6647\n",
            "Epoch 23/100\n",
            "24/24 [==============================] - 3s 113ms/step - loss: 0.5644 - val_loss: 1.0898\n",
            "Epoch 24/100\n",
            "24/24 [==============================] - 3s 112ms/step - loss: 0.5476 - val_loss: 0.8458\n",
            "Epoch 25/100\n",
            "24/24 [==============================] - 3s 111ms/step - loss: 0.4936 - val_loss: 1.0310\n",
            "Epoch 26/100\n",
            "24/24 [==============================] - 3s 111ms/step - loss: 0.6013 - val_loss: 0.4397\n",
            "Epoch 27/100\n",
            "24/24 [==============================] - 3s 110ms/step - loss: 0.5561 - val_loss: 0.4327\n",
            "Epoch 28/100\n",
            "24/24 [==============================] - 3s 112ms/step - loss: 0.5474 - val_loss: 0.5327\n",
            "Epoch 29/100\n",
            "24/24 [==============================] - 3s 113ms/step - loss: 0.4970 - val_loss: 0.7787\n",
            "Epoch 30/100\n",
            "24/24 [==============================] - 3s 112ms/step - loss: 0.5004 - val_loss: 0.4250\n",
            "Epoch 31/100\n",
            "24/24 [==============================] - 3s 112ms/step - loss: 0.5735 - val_loss: 0.5987\n",
            "Epoch 32/100\n",
            "24/24 [==============================] - 3s 112ms/step - loss: 0.4587 - val_loss: 0.6184\n",
            "Epoch 33/100\n",
            "24/24 [==============================] - 3s 107ms/step - loss: 0.5161 - val_loss: 0.7068\n",
            "Epoch 34/100\n",
            "24/24 [==============================] - 3s 108ms/step - loss: 0.5229 - val_loss: 0.8811\n",
            "Epoch 35/100\n",
            "24/24 [==============================] - 3s 110ms/step - loss: 0.5726 - val_loss: 0.6873\n",
            "Epoch 36/100\n",
            "24/24 [==============================] - 3s 110ms/step - loss: 0.5282 - val_loss: 0.3855\n",
            "Epoch 37/100\n",
            "24/24 [==============================] - 3s 110ms/step - loss: 0.5574 - val_loss: 0.7446\n",
            "Epoch 38/100\n",
            "24/24 [==============================] - 3s 110ms/step - loss: 0.4992 - val_loss: 0.3507\n",
            "Epoch 39/100\n",
            "24/24 [==============================] - 3s 110ms/step - loss: 0.5818 - val_loss: 0.3713\n",
            "Epoch 40/100\n",
            "24/24 [==============================] - 3s 107ms/step - loss: 0.5001 - val_loss: 0.8550\n",
            "Epoch 41/100\n",
            "24/24 [==============================] - 3s 110ms/step - loss: 0.4645 - val_loss: 0.3563\n",
            "Epoch 42/100\n",
            "24/24 [==============================] - 3s 109ms/step - loss: 0.4698 - val_loss: 0.3673\n",
            "Epoch 43/100\n",
            "24/24 [==============================] - 3s 111ms/step - loss: 0.4523 - val_loss: 1.1655\n",
            "Epoch 44/100\n",
            "24/24 [==============================] - 3s 111ms/step - loss: 0.4719 - val_loss: 0.8490\n",
            "Epoch 45/100\n",
            "24/24 [==============================] - 3s 109ms/step - loss: 0.4777 - val_loss: 0.9811\n",
            "Epoch 46/100\n",
            "24/24 [==============================] - 3s 109ms/step - loss: 0.6100 - val_loss: 0.3796\n",
            "Epoch 47/100\n",
            "24/24 [==============================] - 3s 108ms/step - loss: 0.5338 - val_loss: 0.3800\n",
            "Epoch 48/100\n",
            "24/24 [==============================] - 3s 109ms/step - loss: 0.4949 - val_loss: 0.7056\n",
            "Epoch 49/100\n",
            "24/24 [==============================] - 3s 110ms/step - loss: 0.4969 - val_loss: 0.4318\n",
            "Epoch 50/100\n",
            "24/24 [==============================] - 3s 109ms/step - loss: 0.4014 - val_loss: 0.6266\n",
            "Epoch 51/100\n",
            "24/24 [==============================] - 3s 110ms/step - loss: 0.4128 - val_loss: 0.8235\n",
            "Epoch 52/100\n",
            "24/24 [==============================] - 3s 110ms/step - loss: 0.4431 - val_loss: 0.9964\n",
            "Epoch 53/100\n",
            "24/24 [==============================] - 3s 112ms/step - loss: 0.4790 - val_loss: 0.5322\n",
            "Epoch 54/100\n",
            "24/24 [==============================] - 3s 109ms/step - loss: 0.4609 - val_loss: 0.4400\n",
            "Epoch 55/100\n",
            "24/24 [==============================] - 3s 107ms/step - loss: 0.3402 - val_loss: 0.6939\n",
            "Epoch 56/100\n",
            "24/24 [==============================] - 3s 109ms/step - loss: 0.5401 - val_loss: 0.4201\n",
            "Epoch 57/100\n",
            "24/24 [==============================] - 3s 109ms/step - loss: 0.4924 - val_loss: 0.3700\n",
            "Epoch 58/100\n",
            "24/24 [==============================] - 3s 108ms/step - loss: 0.4579 - val_loss: 0.6371\n",
            "Epoch 59/100\n",
            "24/24 [==============================] - 3s 109ms/step - loss: 0.4679 - val_loss: 0.3230\n",
            "Epoch 60/100\n",
            "24/24 [==============================] - 3s 109ms/step - loss: 0.4632 - val_loss: 0.3245\n",
            "Epoch 61/100\n",
            "24/24 [==============================] - 3s 109ms/step - loss: 0.4409 - val_loss: 0.6446\n",
            "Epoch 62/100\n",
            "24/24 [==============================] - 3s 107ms/step - loss: 0.4457 - val_loss: 0.5925\n",
            "Epoch 63/100\n",
            "24/24 [==============================] - 3s 107ms/step - loss: 0.5317 - val_loss: 0.4113\n",
            "Epoch 64/100\n",
            "24/24 [==============================] - 3s 109ms/step - loss: 0.4024 - val_loss: 0.5776\n",
            "Epoch 65/100\n",
            "24/24 [==============================] - 3s 108ms/step - loss: 0.3962 - val_loss: 0.4350\n",
            "Epoch 66/100\n",
            "24/24 [==============================] - 3s 111ms/step - loss: 0.3517 - val_loss: 1.2800\n",
            "Epoch 67/100\n",
            "24/24 [==============================] - 3s 110ms/step - loss: 0.5197 - val_loss: 0.3281\n",
            "Epoch 68/100\n",
            "24/24 [==============================] - 3s 107ms/step - loss: 0.5383 - val_loss: 0.3684\n",
            "Epoch 69/100\n",
            "24/24 [==============================] - 3s 110ms/step - loss: 0.4311 - val_loss: 0.5920\n",
            "Epoch 70/100\n",
            "24/24 [==============================] - 3s 108ms/step - loss: 0.4772 - val_loss: 0.3566\n",
            "Epoch 71/100\n",
            "24/24 [==============================] - 3s 107ms/step - loss: 0.4463 - val_loss: 0.7664\n",
            "Epoch 72/100\n",
            "24/24 [==============================] - 3s 108ms/step - loss: 0.4005 - val_loss: 0.7077\n",
            "Epoch 73/100\n",
            "24/24 [==============================] - 3s 109ms/step - loss: 0.4280 - val_loss: 0.3188\n",
            "Epoch 74/100\n",
            "24/24 [==============================] - 3s 109ms/step - loss: 0.3856 - val_loss: 0.5062\n",
            "Epoch 75/100\n",
            "24/24 [==============================] - 3s 111ms/step - loss: 0.3935 - val_loss: 0.3233\n",
            "Epoch 76/100\n",
            "24/24 [==============================] - 3s 112ms/step - loss: 0.3871 - val_loss: 0.5336\n",
            "Epoch 77/100\n",
            "24/24 [==============================] - 3s 111ms/step - loss: 0.3978 - val_loss: 0.6314\n",
            "Epoch 78/100\n",
            "24/24 [==============================] - 3s 111ms/step - loss: 0.3473 - val_loss: 0.4377\n",
            "Epoch 79/100\n",
            "24/24 [==============================] - 3s 111ms/step - loss: 0.4952 - val_loss: 1.1285\n",
            "Epoch 80/100\n",
            "24/24 [==============================] - 3s 110ms/step - loss: 0.3637 - val_loss: 0.5707\n",
            "Epoch 81/100\n",
            "24/24 [==============================] - 3s 109ms/step - loss: 0.4643 - val_loss: 0.7223\n",
            "Epoch 82/100\n",
            "24/24 [==============================] - 3s 109ms/step - loss: 0.3815 - val_loss: 0.3874\n",
            "Epoch 83/100\n",
            "24/24 [==============================] - 3s 111ms/step - loss: 0.4955 - val_loss: 0.7353\n",
            "Epoch 84/100\n",
            "24/24 [==============================] - 3s 110ms/step - loss: 0.4808 - val_loss: 0.3514\n",
            "Epoch 85/100\n",
            "24/24 [==============================] - 3s 110ms/step - loss: 0.3469 - val_loss: 0.5648\n",
            "Epoch 86/100\n",
            "24/24 [==============================] - 3s 109ms/step - loss: 0.5199 - val_loss: 0.6685\n",
            "Epoch 87/100\n",
            "24/24 [==============================] - 3s 110ms/step - loss: 0.4073 - val_loss: 0.3164\n",
            "Epoch 88/100\n",
            "24/24 [==============================] - 3s 111ms/step - loss: 0.4696 - val_loss: 0.3421\n",
            "Epoch 89/100\n",
            "24/24 [==============================] - 3s 110ms/step - loss: 0.2774 - val_loss: 0.3905\n",
            "Epoch 90/100\n",
            "24/24 [==============================] - 3s 111ms/step - loss: 0.4080 - val_loss: 0.3207\n",
            "Epoch 91/100\n",
            "24/24 [==============================] - 3s 108ms/step - loss: 0.3578 - val_loss: 0.3950\n",
            "Epoch 92/100\n",
            "24/24 [==============================] - 3s 108ms/step - loss: 0.4409 - val_loss: 0.4511\n",
            "Epoch 93/100\n",
            "24/24 [==============================] - 3s 107ms/step - loss: 0.4144 - val_loss: 0.3861\n",
            "Epoch 94/100\n",
            "24/24 [==============================] - 3s 109ms/step - loss: 0.5248 - val_loss: 0.5989\n",
            "Epoch 95/100\n",
            "24/24 [==============================] - 3s 110ms/step - loss: 0.4243 - val_loss: 0.3727\n",
            "Epoch 96/100\n",
            "24/24 [==============================] - 3s 107ms/step - loss: 0.3947 - val_loss: 0.3738\n",
            "Epoch 97/100\n",
            "24/24 [==============================] - 3s 107ms/step - loss: 0.3689 - val_loss: 0.5014\n",
            "Epoch 98/100\n",
            "24/24 [==============================] - 3s 110ms/step - loss: 0.3858 - val_loss: 0.4721\n",
            "Epoch 99/100\n",
            "24/24 [==============================] - 3s 107ms/step - loss: 0.3830 - val_loss: 0.3357\n",
            "Epoch 100/100\n",
            "24/24 [==============================] - 3s 110ms/step - loss: 0.4880 - val_loss: 0.3228\n"
          ],
          "name": "stdout"
        }
      ]
    },
    {
      "cell_type": "code",
      "metadata": {
        "id": "29VavgssXJLA",
        "colab_type": "code",
        "outputId": "e45a2c42-002a-47c6-f434-f623cefd6e4b",
        "colab": {
          "base_uri": "https://localhost:8080/",
          "height": 402
        }
      },
      "source": [
        "import matplotlib.pyplot as plt\n",
        "%matplotlib inline\n",
        "import numpy as np\n",
        "import pandas as pd\n",
        "import cv2\n",
        "import math\n",
        "from glob import glob\n",
        "import os\n",
        "\n",
        "master = pd.read_csv(\"labels.csv\")\n",
        "master"
      ],
      "execution_count": 0,
      "outputs": [
        {
          "output_type": "execute_result",
          "data": {
            "text/html": [
              "<div>\n",
              "<style scoped>\n",
              "    .dataframe tbody tr th:only-of-type {\n",
              "        vertical-align: middle;\n",
              "    }\n",
              "\n",
              "    .dataframe tbody tr th {\n",
              "        vertical-align: top;\n",
              "    }\n",
              "\n",
              "    .dataframe thead th {\n",
              "        text-align: right;\n",
              "    }\n",
              "</style>\n",
              "<table border=\"1\" class=\"dataframe\">\n",
              "  <thead>\n",
              "    <tr style=\"text-align: right;\">\n",
              "      <th></th>\n",
              "      <th>id</th>\n",
              "      <th>hemorrhage</th>\n",
              "    </tr>\n",
              "  </thead>\n",
              "  <tbody>\n",
              "    <tr>\n",
              "      <th>0</th>\n",
              "      <td>0</td>\n",
              "      <td>1</td>\n",
              "    </tr>\n",
              "    <tr>\n",
              "      <th>1</th>\n",
              "      <td>1</td>\n",
              "      <td>1</td>\n",
              "    </tr>\n",
              "    <tr>\n",
              "      <th>2</th>\n",
              "      <td>2</td>\n",
              "      <td>1</td>\n",
              "    </tr>\n",
              "    <tr>\n",
              "      <th>3</th>\n",
              "      <td>3</td>\n",
              "      <td>1</td>\n",
              "    </tr>\n",
              "    <tr>\n",
              "      <th>4</th>\n",
              "      <td>4</td>\n",
              "      <td>1</td>\n",
              "    </tr>\n",
              "    <tr>\n",
              "      <th>...</th>\n",
              "      <td>...</td>\n",
              "      <td>...</td>\n",
              "    </tr>\n",
              "    <tr>\n",
              "      <th>195</th>\n",
              "      <td>195</td>\n",
              "      <td>0</td>\n",
              "    </tr>\n",
              "    <tr>\n",
              "      <th>196</th>\n",
              "      <td>196</td>\n",
              "      <td>0</td>\n",
              "    </tr>\n",
              "    <tr>\n",
              "      <th>197</th>\n",
              "      <td>197</td>\n",
              "      <td>0</td>\n",
              "    </tr>\n",
              "    <tr>\n",
              "      <th>198</th>\n",
              "      <td>198</td>\n",
              "      <td>0</td>\n",
              "    </tr>\n",
              "    <tr>\n",
              "      <th>199</th>\n",
              "      <td>199</td>\n",
              "      <td>0</td>\n",
              "    </tr>\n",
              "  </tbody>\n",
              "</table>\n",
              "<p>200 rows × 2 columns</p>\n",
              "</div>"
            ],
            "text/plain": [
              "      id   hemorrhage\n",
              "0      0            1\n",
              "1      1            1\n",
              "2      2            1\n",
              "3      3            1\n",
              "4      4            1\n",
              "..   ...          ...\n",
              "195  195            0\n",
              "196  196            0\n",
              "197  197            0\n",
              "198  198            0\n",
              "199  199            0\n",
              "\n",
              "[200 rows x 2 columns]"
            ]
          },
          "metadata": {
            "tags": []
          },
          "execution_count": 10
        }
      ]
    },
    {
      "cell_type": "code",
      "metadata": {
        "id": "KVXvLH3OGd2b",
        "colab_type": "code",
        "outputId": "e95b374f-75d9-4014-d8fb-3371b157c199",
        "colab": {
          "base_uri": "https://localhost:8080/",
          "height": 286
        }
      },
      "source": [
        "#img_path = \"../input/train/\"\n",
        "\n",
        "y = []\n",
        "file_paths = []\n",
        "for i in range(len(master)):\n",
        "    file_paths.append(str(master.ix[i][0]) +'.jpg' )\n",
        "    y.append(master.ix[i][1])\n",
        "y = np.array(y)"
      ],
      "execution_count": 0,
      "outputs": [
        {
          "output_type": "stream",
          "text": [
            "/usr/local/lib/python3.6/dist-packages/ipykernel_launcher.py:5: FutureWarning: \n",
            ".ix is deprecated. Please use\n",
            ".loc for label based indexing or\n",
            ".iloc for positional indexing\n",
            "\n",
            "See the documentation here:\n",
            "http://pandas.pydata.org/pandas-docs/stable/user_guide/indexing.html#ix-indexer-is-deprecated\n",
            "  \"\"\"\n",
            "/usr/local/lib/python3.6/dist-packages/ipykernel_launcher.py:6: FutureWarning: \n",
            ".ix is deprecated. Please use\n",
            ".loc for label based indexing or\n",
            ".iloc for positional indexing\n",
            "\n",
            "See the documentation here:\n",
            "http://pandas.pydata.org/pandas-docs/stable/user_guide/indexing.html#ix-indexer-is-deprecated\n",
            "  \n"
          ],
          "name": "stderr"
        }
      ]
    },
    {
      "cell_type": "code",
      "metadata": {
        "id": "jAQh7NkjHfaI",
        "colab_type": "code",
        "outputId": "d10652f9-5560-4abe-928f-a37dc5f0cad8",
        "colab": {
          "base_uri": "https://localhost:8080/",
          "height": 1000
        }
      },
      "source": [
        "file_paths"
      ],
      "execution_count": 0,
      "outputs": [
        {
          "output_type": "execute_result",
          "data": {
            "text/plain": [
              "['0.jpg',\n",
              " '1.jpg',\n",
              " '2.jpg',\n",
              " '3.jpg',\n",
              " '4.jpg',\n",
              " '5.jpg',\n",
              " '6.jpg',\n",
              " '7.jpg',\n",
              " '8.jpg',\n",
              " '9.jpg',\n",
              " '10.jpg',\n",
              " '11.jpg',\n",
              " '12.jpg',\n",
              " '13.jpg',\n",
              " '14.jpg',\n",
              " '15.jpg',\n",
              " '16.jpg',\n",
              " '17.jpg',\n",
              " '18.jpg',\n",
              " '19.jpg',\n",
              " '20.jpg',\n",
              " '21.jpg',\n",
              " '22.jpg',\n",
              " '23.jpg',\n",
              " '24.jpg',\n",
              " '25.jpg',\n",
              " '26.jpg',\n",
              " '27.jpg',\n",
              " '28.jpg',\n",
              " '29.jpg',\n",
              " '30.jpg',\n",
              " '31.jpg',\n",
              " '32.jpg',\n",
              " '33.jpg',\n",
              " '34.jpg',\n",
              " '35.jpg',\n",
              " '36.jpg',\n",
              " '37.jpg',\n",
              " '38.jpg',\n",
              " '39.jpg',\n",
              " '40.jpg',\n",
              " '41.jpg',\n",
              " '42.jpg',\n",
              " '43.jpg',\n",
              " '44.jpg',\n",
              " '45.jpg',\n",
              " '46.jpg',\n",
              " '47.jpg',\n",
              " '48.jpg',\n",
              " '49.jpg',\n",
              " '50.jpg',\n",
              " '51.jpg',\n",
              " '52.jpg',\n",
              " '53.jpg',\n",
              " '54.jpg',\n",
              " '55.jpg',\n",
              " '56.jpg',\n",
              " '57.jpg',\n",
              " '58.jpg',\n",
              " '59.jpg',\n",
              " '60.jpg',\n",
              " '61.jpg',\n",
              " '62.jpg',\n",
              " '63.jpg',\n",
              " '64.jpg',\n",
              " '65.jpg',\n",
              " '66.jpg',\n",
              " '67.jpg',\n",
              " '68.jpg',\n",
              " '69.jpg',\n",
              " '70.jpg',\n",
              " '71.jpg',\n",
              " '72.jpg',\n",
              " '73.jpg',\n",
              " '74.jpg',\n",
              " '75.jpg',\n",
              " '76.jpg',\n",
              " '77.jpg',\n",
              " '78.jpg',\n",
              " '79.jpg',\n",
              " '80.jpg',\n",
              " '81.jpg',\n",
              " '82.jpg',\n",
              " '83.jpg',\n",
              " '84.jpg',\n",
              " '85.jpg',\n",
              " '86.jpg',\n",
              " '87.jpg',\n",
              " '88.jpg',\n",
              " '89.jpg',\n",
              " '90.jpg',\n",
              " '91.jpg',\n",
              " '92.jpg',\n",
              " '93.jpg',\n",
              " '94.jpg',\n",
              " '95.jpg',\n",
              " '96.jpg',\n",
              " '97.jpg',\n",
              " '98.jpg',\n",
              " '99.jpg',\n",
              " '100.jpg',\n",
              " '101.jpg',\n",
              " '102.jpg',\n",
              " '103.jpg',\n",
              " '104.jpg',\n",
              " '105.jpg',\n",
              " '106.jpg',\n",
              " '107.jpg',\n",
              " '108.jpg',\n",
              " '109.jpg',\n",
              " '110.jpg',\n",
              " '111.jpg',\n",
              " '112.jpg',\n",
              " '113.jpg',\n",
              " '114.jpg',\n",
              " '115.jpg',\n",
              " '116.jpg',\n",
              " '117.jpg',\n",
              " '118.jpg',\n",
              " '119.jpg',\n",
              " '120.jpg',\n",
              " '121.jpg',\n",
              " '122.jpg',\n",
              " '123.jpg',\n",
              " '124.jpg',\n",
              " '125.jpg',\n",
              " '126.jpg',\n",
              " '127.jpg',\n",
              " '128.jpg',\n",
              " '129.jpg',\n",
              " '130.jpg',\n",
              " '131.jpg',\n",
              " '132.jpg',\n",
              " '133.jpg',\n",
              " '134.jpg',\n",
              " '135.jpg',\n",
              " '136.jpg',\n",
              " '137.jpg',\n",
              " '138.jpg',\n",
              " '139.jpg',\n",
              " '140.jpg',\n",
              " '141.jpg',\n",
              " '142.jpg',\n",
              " '143.jpg',\n",
              " '144.jpg',\n",
              " '145.jpg',\n",
              " '146.jpg',\n",
              " '147.jpg',\n",
              " '148.jpg',\n",
              " '149.jpg',\n",
              " '150.jpg',\n",
              " '151.jpg',\n",
              " '152.jpg',\n",
              " '153.jpg',\n",
              " '154.jpg',\n",
              " '155.jpg',\n",
              " '156.jpg',\n",
              " '157.jpg',\n",
              " '158.jpg',\n",
              " '159.jpg',\n",
              " '160.jpg',\n",
              " '161.jpg',\n",
              " '162.jpg',\n",
              " '163.jpg',\n",
              " '164.jpg',\n",
              " '165.jpg',\n",
              " '166.jpg',\n",
              " '167.jpg',\n",
              " '168.jpg',\n",
              " '169.jpg',\n",
              " '170.jpg',\n",
              " '171.jpg',\n",
              " '172.jpg',\n",
              " '173.jpg',\n",
              " '174.jpg',\n",
              " '175.jpg',\n",
              " '176.jpg',\n",
              " '177.jpg',\n",
              " '178.jpg',\n",
              " '179.jpg',\n",
              " '180.jpg',\n",
              " '181.jpg',\n",
              " '182.jpg',\n",
              " '183.jpg',\n",
              " '184.jpg',\n",
              " '185.jpg',\n",
              " '186.jpg',\n",
              " '187.jpg',\n",
              " '188.jpg',\n",
              " '189.jpg',\n",
              " '190.jpg',\n",
              " '191.jpg',\n",
              " '192.jpg',\n",
              " '193.jpg',\n",
              " '194.jpg',\n",
              " '195.jpg',\n",
              " '196.jpg',\n",
              " '197.jpg',\n",
              " '198.jpg',\n",
              " '199.jpg']"
            ]
          },
          "metadata": {
            "tags": []
          },
          "execution_count": 13
        }
      ]
    },
    {
      "cell_type": "code",
      "metadata": {
        "id": "DU8cEnuCHjQC",
        "colab_type": "code",
        "outputId": "4a1714fc-f31b-437c-a249-c1272c95632a",
        "colab": {
          "base_uri": "https://localhost:8080/",
          "height": 34
        }
      },
      "source": [
        "train_images = []\n",
        "for file_path in file_paths:\n",
        "    #read image\n",
        "    img = (cv2.imread(file_path))\n",
        "\n",
        "print(img)"
      ],
      "execution_count": 0,
      "outputs": [
        {
          "output_type": "stream",
          "text": [
            "None\n"
          ],
          "name": "stdout"
        }
      ]
    },
    {
      "cell_type": "code",
      "metadata": {
        "id": "fDyLX3s0IVQg",
        "colab_type": "code",
        "colab": {}
      },
      "source": [
        "DATADIR = r\"images\"\n",
        "\n"
      ],
      "execution_count": 0,
      "outputs": []
    },
    {
      "cell_type": "code",
      "metadata": {
        "id": "u3RSpr1qLtbY",
        "colab_type": "code",
        "outputId": "b7561f86-53fc-4945-f77b-48f9d3f54a6d",
        "colab": {
          "base_uri": "https://localhost:8080/",
          "height": 1000
        }
      },
      "source": [
        "X_train=np.array([])\n",
        "count1=0\n",
        "for img in os.listdir(DATADIR):\n",
        "        img_array=cv2.imread(os.path.join(DATADIR,img),cv2.IMREAD_COLOR)\n",
        "        count1=count1+1\n",
        "        print(count1)\n",
        "       \n",
        "        "
      ],
      "execution_count": 0,
      "outputs": [
        {
          "output_type": "stream",
          "text": [
            "1\n",
            "2\n",
            "3\n",
            "4\n",
            "5\n",
            "6\n",
            "7\n",
            "8\n",
            "9\n",
            "10\n",
            "11\n",
            "12\n",
            "13\n",
            "14\n",
            "15\n",
            "16\n",
            "17\n",
            "18\n",
            "19\n",
            "20\n",
            "21\n",
            "22\n",
            "23\n",
            "24\n",
            "25\n",
            "26\n",
            "27\n",
            "28\n",
            "29\n",
            "30\n",
            "31\n",
            "32\n",
            "33\n",
            "34\n",
            "35\n",
            "36\n",
            "37\n",
            "38\n",
            "39\n",
            "40\n",
            "41\n",
            "42\n",
            "43\n",
            "44\n",
            "45\n",
            "46\n",
            "47\n",
            "48\n",
            "49\n",
            "50\n",
            "51\n",
            "52\n",
            "53\n",
            "54\n",
            "55\n",
            "56\n",
            "57\n",
            "58\n",
            "59\n",
            "60\n",
            "61\n",
            "62\n",
            "63\n",
            "64\n",
            "65\n",
            "66\n",
            "67\n",
            "68\n",
            "69\n",
            "70\n",
            "71\n",
            "72\n",
            "73\n",
            "74\n",
            "75\n",
            "76\n",
            "77\n",
            "78\n",
            "79\n",
            "80\n",
            "81\n",
            "82\n",
            "83\n",
            "84\n",
            "85\n",
            "86\n",
            "87\n",
            "88\n",
            "89\n",
            "90\n",
            "91\n",
            "92\n",
            "93\n",
            "94\n",
            "95\n",
            "96\n",
            "97\n",
            "98\n",
            "99\n",
            "100\n",
            "101\n",
            "102\n",
            "103\n",
            "104\n",
            "105\n",
            "106\n",
            "107\n",
            "108\n",
            "109\n",
            "110\n",
            "111\n",
            "112\n",
            "113\n",
            "114\n",
            "115\n",
            "116\n",
            "117\n",
            "118\n",
            "119\n",
            "120\n",
            "121\n",
            "122\n",
            "123\n",
            "124\n",
            "125\n",
            "126\n",
            "127\n",
            "128\n",
            "129\n",
            "130\n",
            "131\n",
            "132\n",
            "133\n",
            "134\n",
            "135\n",
            "136\n",
            "137\n",
            "138\n",
            "139\n",
            "140\n",
            "141\n",
            "142\n",
            "143\n",
            "144\n",
            "145\n",
            "146\n",
            "147\n",
            "148\n",
            "149\n",
            "150\n",
            "151\n",
            "152\n",
            "153\n",
            "154\n",
            "155\n",
            "156\n",
            "157\n",
            "158\n",
            "159\n",
            "160\n",
            "161\n",
            "162\n",
            "163\n",
            "164\n",
            "165\n",
            "166\n",
            "167\n",
            "168\n",
            "169\n",
            "170\n",
            "171\n",
            "172\n",
            "173\n",
            "174\n",
            "175\n",
            "176\n",
            "177\n",
            "178\n",
            "179\n",
            "180\n",
            "181\n",
            "182\n",
            "183\n",
            "184\n",
            "185\n",
            "186\n",
            "187\n",
            "188\n",
            "189\n",
            "190\n",
            "191\n",
            "192\n",
            "193\n",
            "194\n",
            "195\n",
            "196\n",
            "197\n",
            "198\n",
            "199\n",
            "200\n"
          ],
          "name": "stdout"
        }
      ]
    },
    {
      "cell_type": "code",
      "metadata": {
        "id": "iT4Zi0U2L05F",
        "colab_type": "code",
        "outputId": "4d53469f-7282-4cf8-cac3-e055195d934f",
        "colab": {
          "base_uri": "https://localhost:8080/",
          "height": 34
        }
      },
      "source": [
        "np.shape(img_array)"
      ],
      "execution_count": 0,
      "outputs": [
        {
          "output_type": "execute_result",
          "data": {
            "text/plain": [
              "(230, 219, 3)"
            ]
          },
          "metadata": {
            "tags": []
          },
          "execution_count": 28
        }
      ]
    },
    {
      "cell_type": "code",
      "metadata": {
        "id": "tdBjYbADMVLB",
        "colab_type": "code",
        "colab": {}
      },
      "source": [
        ""
      ],
      "execution_count": 0,
      "outputs": []
    }
  ]
}